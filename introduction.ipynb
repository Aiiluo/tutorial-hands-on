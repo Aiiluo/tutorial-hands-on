{
 "cells": [
  {
   "cell_type": "markdown",
   "metadata": {},
   "source": [
    "# Automated finite difference operators from symbolic equations\n",
    "\n",
    "This is the first part. It will give an overview..."
   ]
  },
  {
   "cell_type": "code",
   "execution_count": null,
   "metadata": {
    "collapsed": true
   },
   "outputs": [],
   "source": [
    "from devito import *\n",
    "from sympy import init_printing, symbols, solve\n",
    "init_printing(use_latex=True)"
   ]
  },
  {
   "cell_type": "markdown",
   "metadata": {},
   "source": [
    "**[TODO: Introduce basic concepts]**\n",
    "\n",
    "A `Function` object does two things:\n",
    "1. It behaves like a `sympy.Function` symbol\n",
    "2. It carries around user data"
   ]
  },
  {
   "cell_type": "code",
   "execution_count": null,
   "metadata": {},
   "outputs": [],
   "source": [
    "grid = Grid(shape=(5, 6), extent=(1., 1.))\n",
    "f = Function(name='f', grid=grid)"
   ]
  },
  {
   "cell_type": "markdown",
   "metadata": {},
   "source": [
    "## Symbolic behaviour of Function objects\n",
    "\n",
    "Let's have a look at the symbolic behaviour first by taking a derivative in `x`. For this we first create a derivative symbol and then we evaluate it as a finite difference expression."
   ]
  },
  {
   "cell_type": "code",
   "execution_count": null,
   "metadata": {},
   "outputs": [],
   "source": [
    "f"
   ]
  },
  {
   "cell_type": "code",
   "execution_count": null,
   "metadata": {},
   "outputs": [],
   "source": [
    "f.diff(x)"
   ]
  },
  {
   "cell_type": "markdown",
   "metadata": {},
   "source": [
    "Using SymPy we can now discretize this derivative symbol using the finite difference method. First, we let SymPy create a generic central difference expression."
   ]
  },
  {
   "cell_type": "code",
   "execution_count": null,
   "metadata": {},
   "outputs": [],
   "source": [
    "f.diff(x).as_finite_difference()"
   ]
  },
  {
   "cell_type": "markdown",
   "metadata": {},
   "source": [
    "Next we can tell SymPy to insert the symbol $h_x$ to represent the spacing of our grid in the $x$ dimension. SymPy will still use a central differencing scheme, where we ae required to know the values of $f(x, y)$ at distances $h_x / 2$."
   ]
  },
  {
   "cell_type": "code",
   "execution_count": null,
   "metadata": {},
   "outputs": [],
   "source": [
    "h_x = symbols('h_x')\n",
    "f.diff(x).as_finite_difference(h_x)"
   ]
  },
  {
   "cell_type": "markdown",
   "metadata": {},
   "source": [
    "To avoid values half-cell offsets we can force SymPy to use a forward differencing scheme by providing the explicit stencil points for which to discretize our derivative. This stencil expression now aligns with our computational grid."
   ]
  },
  {
   "cell_type": "code",
   "execution_count": null,
   "metadata": {},
   "outputs": [],
   "source": [
    "f.diff(x).as_finite_difference([x, x+h_x])"
   ]
  },
  {
   "cell_type": "markdown",
   "metadata": {},
   "source": [
    "Typing out this expression every time I want to take a simple derivative is somewhat tedious. Luckily, Devito symbols provide a set of shorthand notations to generate the most common derivatives automatically. The first derivative in x, for example, is simply: "
   ]
  },
  {
   "cell_type": "code",
   "execution_count": null,
   "metadata": {},
   "outputs": [],
   "source": [
    "f.dx"
   ]
  },
  {
   "cell_type": "markdown",
   "metadata": {},
   "source": [
    "## Time-dependent functions and data\n",
    "\n",
    "**[TODO: Explain TimeFunction and .data]**"
   ]
  },
  {
   "cell_type": "code",
   "execution_count": null,
   "metadata": {
    "collapsed": true
   },
   "outputs": [],
   "source": [
    "# TODO: Show u.dt and u.data with \"hat\" initial data"
   ]
  },
  {
   "cell_type": "markdown",
   "metadata": {},
   "source": [
    "## A simple operator: Linear convenction\n",
    "\n",
    "**[TODO: Explain the role of Operator and how codegen works]**\n",
    "\n",
    "**Note:** The following example is derived from [step 5](http://nbviewer.ipython.org/github/barbagroup/CFDPython/blob/master/lessons/07_Step_5.ipynb) of the tutorials in the excellent tutorial series [CFD Python: 12 steps to Navier-Stokes](http://lorenabarba.com/blog/cfd-python-12-steps-to-navier-stokes/)."
   ]
  },
  {
   "cell_type": "code",
   "execution_count": null,
   "metadata": {
    "collapsed": true
   },
   "outputs": [],
   "source": [
    "# TODO: Build the operator by letting SymPy solve for f(t + s, x, y)\n",
    "# Then build operator and run it"
   ]
  },
  {
   "cell_type": "markdown",
   "metadata": {},
   "source": [
    "## Exercise 1: A coupled system\n",
    "\n",
    "The solution of the previous example showed a lot of numerical diffusion. This is somewhat expected as the discretization we have chosen is not very good at capturing sharp gradients, like the edge of our \"hat\". A better formulation of the equation is given by the coupled system of equations:\n",
    "\n",
    "**[TODO: Spell out coupled formulation]**\n",
    "\n",
    "To implement a coupled set of equations, all we have to do is create update expressions for both state variables and handing both expressions to the `Operator`. This is simply done by concatenating them in a Python list."
   ]
  },
  {
   "cell_type": "code",
   "execution_count": null,
   "metadata": {
    "collapsed": true
   },
   "outputs": [],
   "source": [
    "# Hint: We need to create two expressions, one to update u(t+s, ...) and one for v(t+s, ...).\n",
    "# Both need to depend on the state of variables u(t, ...) and v(t, ...)."
   ]
  },
  {
   "cell_type": "markdown",
   "metadata": {},
   "source": [
    "<button data-toggle=\"collapse\" data-target=\"#sol1\" class='btn btn-primary'>Solution</button>\n",
    "<div id=\"sol1\" class=\"collapse\">\n",
    "```python\n",
    "# TODO: Reference solution\n",
    "```"
   ]
  },
  {
   "cell_type": "markdown",
   "metadata": {},
   "source": [
    "## Second derivatives and high-order stencils\n",
    "\n",
    "For the above example all we had to do was combine some first derivatives. However, lots of common scientific problems require second derivative, most notably any PDE including diffusion. To generate second order derivatives we need to give the `devito.Function` object another piece of information: the desired discretization of the stencils. \n",
    "\n",
    "First, let's do a simple second derivative in %x%, for which we need to give %u% at least a `space_order` of `2`. The shorthand for the second derivative is then `u.dx2`. "
   ]
  },
  {
   "cell_type": "code",
   "execution_count": null,
   "metadata": {},
   "outputs": [],
   "source": [
    "u = TimeFunction(name='u', grid=grid, space_order=2)\n",
    "u.dx2"
   ]
  },
  {
   "cell_type": "markdown",
   "metadata": {},
   "source": [
    "We can arbitrarily drive the discretization order up if require higher order stencils. "
   ]
  },
  {
   "cell_type": "code",
   "execution_count": null,
   "metadata": {},
   "outputs": [],
   "source": [
    "u = TimeFunction(name='u', grid=grid, space_order=4)\n",
    "u.dx2"
   ]
  },
  {
   "cell_type": "markdown",
   "metadata": {},
   "source": [
    "To implement a diffusion operator, we need to take the Laplacian $\\nabla^2 u$, which is simply the second derivative in all space dimensions. For this, Devito also provides a shorthand expression, which means I do not have to hardcode the problem dimension (2D or 3D) in my code. I simply give another shape to the grid and let it figure our the Laplacian like this:"
   ]
  },
  {
   "cell_type": "code",
   "execution_count": null,
   "metadata": {},
   "outputs": [],
   "source": [
    "grid_3d = Grid(shape=(5, 6, 7), extent=(1., 1., 1.))\n",
    "u = TimeFunction(name='u', grid=grid_3d, space_order=2)\n",
    "u.laplace"
   ]
  },
  {
   "cell_type": "markdown",
   "metadata": {},
   "source": [
    "Just for kicks (and to show off the power of SymPy), let's see what the 12th-order Laplacian of a three dimensional time-dependent function looks like."
   ]
  },
  {
   "cell_type": "code",
   "execution_count": null,
   "metadata": {},
   "outputs": [],
   "source": [
    "grid_3d = Grid(shape=(5, 6, 7), extent=(1., 1., 1.))\n",
    "u = TimeFunction(name='u', grid=grid_3d, space_order=12)\n",
    "u.laplace"
   ]
  },
  {
   "cell_type": "markdown",
   "metadata": {},
   "source": [
    "## Exercise 2: Making a wave\n",
    "\n",
    "In the final exercise of the introduction we will implement a wave equation operator and visualize a wave propagating from a single source point.\n",
    "\n",
    "**[TODO: Problem spec with equation]**"
   ]
  },
  {
   "cell_type": "code",
   "execution_count": null,
   "metadata": {},
   "outputs": [],
   "source": [
    "# Please have a go and try to implement the operator.\n",
    "# Hint: Your final line should define `op = Operator(...)"
   ]
  },
  {
   "cell_type": "markdown",
   "metadata": {},
   "source": [
    "<button data-toggle=\"collapse\" data-target=\"#sol1\" class='btn btn-primary'>Solution</button>\n",
    "<div id=\"sol1\" class=\"collapse\">\n",
    "```python\n",
    "grid = Grid(shape=(5, 6))\n",
    "u = TimeData(name='u', space_order=2, time_order=2)\n",
    "m = DenseData(name='m')\n",
    "eqn = Eq(m * u.dt2 - u.laplace)\n",
    "stencil = solve(eqn, u.forward)[0]\n",
    "op = Operator(stencil)\n",
    "```"
   ]
  },
  {
   "cell_type": "code",
   "execution_count": null,
   "metadata": {
    "collapsed": true
   },
   "outputs": [],
   "source": [
    "# TODO: Run operator with animation"
   ]
  }
 ],
 "metadata": {
  "kernelspec": {
   "display_name": "Python 3",
   "language": "python",
   "name": "python3"
  },
  "language_info": {
   "codemirror_mode": {
    "name": "ipython",
    "version": 3
   },
   "file_extension": ".py",
   "mimetype": "text/x-python",
   "name": "python",
   "nbconvert_exporter": "python",
   "pygments_lexer": "ipython3",
   "version": "3.6.3"
  },
  "widgets": {
   "state": {},
   "version": "1.1.2"
  }
 },
 "nbformat": 4,
 "nbformat_minor": 2
}
