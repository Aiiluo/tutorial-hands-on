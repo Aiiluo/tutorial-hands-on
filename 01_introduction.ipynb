{
 "cells": [
  {
   "cell_type": "markdown",
   "metadata": {},
   "source": [
    "# Automated finite difference operators from symbolic equations\n",
    "\n",
    "This notebook is the first in a series of hands-on tutorial notebooks that are intended to give a brief practical overview of the [Devito](http://www.opesci.org/devito-public) finite difference framework. We will present an overview of the symbolic layers of Devito and how to use them to define a set of simple `Operator` objects."
   ]
  },
  {
   "cell_type": "code",
   "execution_count": null,
   "metadata": {
    "collapsed": true
   },
   "outputs": [],
   "source": [
    "from devito import *\n",
    "from sympy import init_printing, symbols, solve\n",
    "init_printing(use_latex=True)"
   ]
  },
  {
   "cell_type": "markdown",
   "metadata": {},
   "source": [
    "## From equation to stencil code in a few lines of Python\n",
    "\n",
    "Today's objective is to demonstrate the "
   ]
  },
  {
   "cell_type": "markdown",
   "metadata": {},
   "source": [
    "## Basic concepts\n",
    "\n",
    "At the very core of Devito are two types of objects:\n",
    "- **Symbolic expressions** that define stencil computations as a set of `sympy.Equation` objects\n",
    "- **Operator** objects that transform that auto-generate and execute optimized C code from these high-level expressions\n",
    "\n",
    "The symbolic expressions needed to define the computational operators are based on Devito's `Function` objects. A `Function` object does two things:\n",
    "1. It behaves like a `sympy.Function` symbol\n",
    "2. It carries around user data\n",
    "\n",
    "To define manage the data associated with our symbol we need to know some information, like the shape and phsyical extent (size in units) of our computational domain. We can define this using a `Grid` object, from which to create our `Function`. Depending on the shape of the computational grid, Devito will create a set of `Dimension` objects that also behave like SymPy symbols. "
   ]
  },
  {
   "cell_type": "code",
   "execution_count": null,
   "metadata": {
    "collapsed": true
   },
   "outputs": [],
   "source": [
    "?Function"
   ]
  },
  {
   "cell_type": "code",
   "execution_count": null,
   "metadata": {
    "collapsed": true
   },
   "outputs": [],
   "source": [
    "grid = Grid(shape=(5, 6), extent=(1., 1.))\n",
    "x, y = grid.dimensions\n",
    "f = Function(name='f', grid=grid)"
   ]
  },
  {
   "cell_type": "markdown",
   "metadata": {},
   "source": [
    "## Symbolic behaviour of Function objects\n",
    "\n",
    "Let's have a look at the symbolic behaviour first by taking a derivative in `x`. For this we first create a derivative symbol and then we evaluate it as a finite difference expression."
   ]
  },
  {
   "cell_type": "code",
   "execution_count": null,
   "metadata": {
    "collapsed": false
   },
   "outputs": [],
   "source": [
    "f"
   ]
  },
  {
   "cell_type": "code",
   "execution_count": null,
   "metadata": {
    "collapsed": false
   },
   "outputs": [],
   "source": [
    "f.diff(x)"
   ]
  },
  {
   "cell_type": "markdown",
   "metadata": {},
   "source": [
    "Using SymPy we can now discretize this derivative symbol using the finite difference method. First, we let SymPy create a generic central difference expression."
   ]
  },
  {
   "cell_type": "code",
   "execution_count": null,
   "metadata": {
    "collapsed": false
   },
   "outputs": [],
   "source": [
    "f.diff(x).as_finite_difference()"
   ]
  },
  {
   "cell_type": "markdown",
   "metadata": {},
   "source": [
    "Next we can tell SymPy to insert the symbol $h_x$ to represent the spacing of our grid in the $x$ dimension. SymPy will still use a central differencing scheme, where we ae required to know the values of $f(x, y)$ at distances $h_x / 2$."
   ]
  },
  {
   "cell_type": "code",
   "execution_count": null,
   "metadata": {
    "collapsed": false
   },
   "outputs": [],
   "source": [
    "h_x = symbols('h_x')\n",
    "f.diff(x).as_finite_difference(h_x)"
   ]
  },
  {
   "cell_type": "markdown",
   "metadata": {},
   "source": [
    "To avoid values half-cell offsets we can force SymPy to use a forward differencing scheme by providing the explicit stencil points for which to discretize our derivative. This stencil expression now aligns with our computational grid."
   ]
  },
  {
   "cell_type": "code",
   "execution_count": null,
   "metadata": {
    "collapsed": false
   },
   "outputs": [],
   "source": [
    "f.diff(x).as_finite_difference([x, x+h_x])"
   ]
  },
  {
   "cell_type": "markdown",
   "metadata": {},
   "source": [
    "Typing out this expression every time I want to take a simple derivative is somewhat tedious. Luckily, Devito symbols provide a set of shorthand notations to generate the most common derivatives automatically. The first derivative in x, for example, is simply: "
   ]
  },
  {
   "cell_type": "code",
   "execution_count": null,
   "metadata": {
    "collapsed": false
   },
   "outputs": [],
   "source": [
    "f.dx"
   ]
  },
  {
   "cell_type": "markdown",
   "metadata": {},
   "source": [
    "In fact, we are slightly cheating here, since we actually used the forward difference scheme, or \"right derivtive\", not the central one. If we wanted to be really explicit, we could use the shorthand `f.dxr` to create the same expression."
   ]
  },
  {
   "cell_type": "code",
   "execution_count": null,
   "metadata": {
    "collapsed": false
   },
   "outputs": [],
   "source": [
    "f.dxr"
   ]
  },
  {
   "cell_type": "markdown",
   "metadata": {},
   "source": [
    "However, following the same convention we can also use the shorthand `f.dxl` to create the \"left derivative\", or in other words use a backward differenceing scheme. We will need the backward difference symbol in our worked example later."
   ]
  },
  {
   "cell_type": "code",
   "execution_count": null,
   "metadata": {
    "collapsed": false
   },
   "outputs": [],
   "source": [
    "f.dxl"
   ]
  },
  {
   "cell_type": "markdown",
   "metadata": {},
   "source": [
    "## Time-dependent functions and data\n",
    "\n",
    "By default Devito's `Function` objects will use the spatial dimensions `(x, y)` for 2D grids and `(x, y, z)` for 3D grids. To solve a PDE over several timesteps though, we need a time dimension for our symbolic function. For this Devito provides a second function type, `TimeFunction` that provides the correct dimension, and some other intricacies needed to create a time stepping scheme."
   ]
  },
  {
   "cell_type": "code",
   "execution_count": null,
   "metadata": {
    "collapsed": false
   },
   "outputs": [],
   "source": [
    "g = TimeFunction(name='g', grid=grid)\n",
    "g"
   ]
  },
  {
   "cell_type": "markdown",
   "metadata": {},
   "source": [
    "We can take the same spatial derivatives of $g$ as before and we can now also take derivative wrt. $t$."
   ]
  },
  {
   "cell_type": "code",
   "execution_count": null,
   "metadata": {
    "collapsed": false
   },
   "outputs": [],
   "source": [
    "g.dx"
   ]
  },
  {
   "cell_type": "code",
   "execution_count": null,
   "metadata": {
    "collapsed": false
   },
   "outputs": [],
   "source": [
    "g.dt"
   ]
  },
  {
   "cell_type": "markdown",
   "metadata": {},
   "source": [
    "The careful observer might have recognised that the spacing symbol for $t$ is called $dt$. This is due to the special status of the time dimension and will come in handy once we start building operators.\n",
    "\n",
    "#### Data associated with functions\n",
    "\n",
    "The other \"special\" property of `TimeFunction` objects is that they have a slightly different data layout due to the fact that we assume $t$ to be the stepping dimension in our time stepping scheme. As we said in the beginning, Devito functions do not only behave symbolically like SymPy functions, but they also hold and manage user data. So, let's first take a look at our original function $f$."
   ]
  },
  {
   "cell_type": "code",
   "execution_count": null,
   "metadata": {
    "collapsed": false
   },
   "outputs": [],
   "source": [
    "f.data"
   ]
  },
  {
   "cell_type": "code",
   "execution_count": null,
   "metadata": {
    "collapsed": false
   },
   "outputs": [],
   "source": [
    "f.data.shape"
   ]
  },
  {
   "cell_type": "markdown",
   "metadata": {},
   "source": [
    "The `.data` property of each function presents the data that Devito has allocated to the user as a Numpy array. The fact that the function object allocates the user data ensures that Devito can manage data layout internally, which is of vital importance for some advanced performance optimisation techniques.\n",
    "\n",
    "As we can see, the allocated data is of `shape=(5, 6)`, the shape that we previously defined on the Grid. Now look at the shape of the data associated with $g$."
   ]
  },
  {
   "cell_type": "code",
   "execution_count": null,
   "metadata": {
    "collapsed": false
   },
   "outputs": [],
   "source": [
    "g.data.shape"
   ]
  },
  {
   "cell_type": "markdown",
   "metadata": {},
   "source": [
    "The `TimeFunction` has allocated two buffers of shape `(5, 6)`, allowing us to perform a stencil computation with alternating buffers. These correspond symbolically to $g(t, x, y)$ and $g(t + dx, x, y)$."
   ]
  },
  {
   "cell_type": "markdown",
   "metadata": {},
   "source": [
    "## A few words on the Operator\n",
    "\n",
    "The other important class provided by Devito is the `Operator`. An `Operator` takes as input one or more SymPy expressions in the form of a `sympy.Eq` object that expresses an assignment to a function. The dimension indices used in these functions are interpreted as loops over the respective iteration space, eg. assignint a value to $f(x, y)$ assigns the value to all points in the $x$, $y$ space. "
   ]
  },
  {
   "cell_type": "code",
   "execution_count": null,
   "metadata": {
    "collapsed": false
   },
   "outputs": [],
   "source": [
    "Operator(Eq(f, 2.))()\n",
    "f.data"
   ]
  },
  {
   "cell_type": "markdown",
   "metadata": {},
   "source": [
    "## A simple operator: Linear convenction\n",
    "\n",
    "**Note:** The following example is derived from [step 5](http://nbviewer.ipython.org/github/barbagroup/CFDPython/blob/master/lessons/07_Step_5.ipynb) of the tutorials in the excellent tutorial series [CFD Python: 12 steps to Navier-Stokes](http://lorenabarba.com/blog/cfd-python-12-steps-to-navier-stokes/).\n",
    "\n",
    "In this simple example we will show how to derive a very simple convection operator from a high-level descritpion of the governing equation. We will go through the process of deriving a discretized finite difference formulation of the state update for the field variable $u$, before creating a callable `Operator` object. Luckily, the automation provided by SymPy makes the derivation very nice and easy.\n",
    "\n",
    "The governing equation we want to implement is the linear convection equation:\n",
    "$$\\frac{\\partial u}{\\partial t}+c\\frac{\\partial u}{\\partial x} + c\\frac{\\partial u}{\\partial y} = 0$$"
   ]
  },
  {
   "cell_type": "code",
   "execution_count": null,
   "metadata": {
    "collapsed": false
   },
   "outputs": [],
   "source": [
    "from examples.cfd import init_hat, plot_field\n",
    "\n",
    "# First we define some parameters\n",
    "nx, ny = (81, 81)  # Number of grid point in x and y\n",
    "nt = 100  # Number of timesteps\n",
    "dx = 2. / (nx - 1)  # Grid spacing in x and y\n",
    "dy = 2. / (ny - 1)\n",
    "dt = 0.2 * dx  # Timestep size (sigma=0.2)\n",
    "c = 1  # Value for c\n",
    "\n",
    "# Then we create a grid and our function\n",
    "grid = Grid(shape=(nx, ny), extent=(2., 2.))\n",
    "x, y = grid.dimensions\n",
    "u = TimeFunction(name='u', grid=grid)\n",
    "\n",
    "# We can now set the initial condition and plot it\n",
    "init_hat(field=u.data[0], dx=dx, dy=dy, value=2.)\n",
    "init_hat(field=u.data[1], dx=dx, dy=dy, value=2.)\n",
    "\n",
    "plot_field(u.data[0])"
   ]
  },
  {
   "cell_type": "markdown",
   "metadata": {},
   "source": [
    "Next, we want to discretize our governing equation so that we can create a functional `Operator` from it. We can start by simply writing out the equation as a symbolic expression, while using the shorthand expressions for derivatives that the `Function` objects provide. This will create a symbolic object of the dicrestized equation."
   ]
  },
  {
   "cell_type": "code",
   "execution_count": null,
   "metadata": {
    "collapsed": false
   },
   "outputs": [],
   "source": [
    "eq = Eq(u.dt + c * u.dxl + c * u.dyl)\n",
    "eq"
   ]
  },
  {
   "cell_type": "markdown",
   "metadata": {},
   "source": [
    "As we can see, SymPy as kindly resolved our derivatives. Next, we need to rearrange our equation so that the term $u(t+dt, x, y)$ is on the left-hand side, since it represents the next point in time for our state variable $u$. We can again use SymPy to rearrange our equation for us, so that it represents a valid state update for $u$."
   ]
  },
  {
   "cell_type": "code",
   "execution_count": null,
   "metadata": {
    "collapsed": false
   },
   "outputs": [],
   "source": [
    "stencil = solve(eq, u.forward)[0]\n",
    "update = Eq(u.forward, stencil)\n",
    "update"
   ]
  },
  {
   "cell_type": "markdown",
   "metadata": {},
   "source": [
    "From this update epxression, we can now create an `Operator`. This `Operator` will basically behave like a Python function that we can call, as long as we provide all necessary unknowns. In this case we need to provide the number of timesteps to compute via the keyword `time` and the timestep size to use via `dt`."
   ]
  },
  {
   "cell_type": "code",
   "execution_count": null,
   "metadata": {
    "collapsed": false
   },
   "outputs": [],
   "source": [
    "op = Operator(update)\n",
    "op(time=nt+1, dt=dt)\n",
    "\n",
    "plot_field(u.data[0])"
   ]
  },
  {
   "cell_type": "markdown",
   "metadata": {},
   "source": [
    "## Exercise 1: A coupled system\n",
    "\n",
    "The solution of the previous example showed a lot of numerical diffusion. This is somewhat expected as the discretization we have chosen is not very good at capturing sharp gradients, like the edge of our \"hat\". A better formulation of the equation is given by the coupled system of equations:\n",
    "\n",
    "\\begin{aligned}\n",
    "\\frac{\\partial u}{\\partial t} + u \\frac{\\partial u}{\\partial x} + v \\frac{\\partial u}{\\partial y} = 0 \\\\\n",
    "\\\\\n",
    "\\frac{\\partial v}{\\partial t} + u \\frac{\\partial v}{\\partial x} + v \\frac{\\partial v}{\\partial y} = 0\\\\\n",
    "\\end{aligned}\n",
    "\n",
    "To implement a coupled set of equations, all we have to do is create update expressions for both state variables and hand both expressions to the `Operator`. This is simply done by concatenating them in a Python list. To create our symbolic derivatives we want to use the same backward differencing scheme (_left derivative_) as in the previous example.\n",
    "\n",
    "Below is the setup of the initial state. Note that we now have two state variables."
   ]
  },
  {
   "cell_type": "code",
   "execution_count": null,
   "metadata": {
    "collapsed": false
   },
   "outputs": [],
   "source": [
    "grid = Grid(shape=(nx, ny), extent=(2., 2.))\n",
    "u = TimeFunction(name='u', grid=grid)\n",
    "v = TimeFunction(name='v', grid=grid)\n",
    "\n",
    "# We use the same initial condition and plot it\n",
    "init_hat(field=u.data[0], dx=dx, dy=dy, value=2.)\n",
    "init_hat(field=u.data[1], dx=dx, dy=dy, value=2.)\n",
    "init_hat(field=v.data[0], dx=dx, dy=dy, value=2.)\n",
    "init_hat(field=v.data[1], dx=dx, dy=dy, value=2.)\n",
    "\n",
    "plot_field(u.data[0])"
   ]
  },
  {
   "cell_type": "code",
   "execution_count": null,
   "metadata": {
    "collapsed": false
   },
   "outputs": [],
   "source": [
    "# Please write your solution here."
   ]
  },
  {
   "cell_type": "markdown",
   "metadata": {},
   "source": [
    "We can look at the final result again. We should see a similar displacement in our \"hat\", but this time the resulting shape should be slightly skewed towards the direction of travel. This is still not a great result, but that is expeted, given the simplicity of the numerical scheme we're using."
   ]
  },
  {
   "cell_type": "code",
   "execution_count": null,
   "metadata": {
    "collapsed": false
   },
   "outputs": [],
   "source": [
    "plot_field(u.data[0])"
   ]
  },
  {
   "cell_type": "markdown",
   "metadata": {},
   "source": [
    "<button data-toggle=\"collapse\" data-target=\"#sol1\" class='btn btn-primary'>Solution</button>\n",
    "<div id=\"sol1\" class=\"collapse\">\n",
    "```python\n",
    "eq_u = Eq(u.dt + u*u.dxl + v*u.dyl)\n",
    "eq_v = Eq(v.dt + u*v.dxl + v*v.dyl)\n",
    "\n",
    "stencil_u = solve(eq_u, u.forward)[0]\n",
    "stencil_v = solve(eq_v, v.forward)[0]\n",
    "update_u = Eq(u.forward, stencil_u)\n",
    "update_v = Eq(v.forward, stencil_v)\n",
    "\n",
    "op = Operator([update_u, update_v])\n",
    "op(time=nt+1, dt=dt)\n",
    "```"
   ]
  },
  {
   "cell_type": "markdown",
   "metadata": {},
   "source": [
    "## Second derivatives and high-order stencils\n",
    "\n",
    "For the above example all we had to do was combine some first derivatives. However, lots of common scientific problems require second derivative, most notably any PDE including diffusion. To generate second order derivatives we need to give the `devito.Function` object another piece of information: the desired discretization of the stencils. \n",
    "\n",
    "First, let's do a simple second derivative in $x$, for which we need to give $u$ at least a `space_order` of `2`. The shorthand for the second derivative is then `u.dx2`. "
   ]
  },
  {
   "cell_type": "code",
   "execution_count": null,
   "metadata": {
    "collapsed": true
   },
   "outputs": [],
   "source": [
    "u = TimeFunction(name='u', grid=grid, space_order=2)\n",
    "u.dx2"
   ]
  },
  {
   "cell_type": "markdown",
   "metadata": {},
   "source": [
    "We can arbitrarily drive the discretization order up if require higher order stencils. "
   ]
  },
  {
   "cell_type": "code",
   "execution_count": null,
   "metadata": {
    "collapsed": false
   },
   "outputs": [],
   "source": [
    "u = TimeFunction(name='u', grid=grid, space_order=4)\n",
    "u.dx2"
   ]
  },
  {
   "cell_type": "markdown",
   "metadata": {},
   "source": [
    "To implement a diffusion operator, we need to take the Laplacian $\\nabla^2 u$, which is simply the second derivative in all space dimensions. For this, Devito also provides a shorthand expression, which means I do not have to hardcode the problem dimension (2D or 3D) in my code. I simply give another shape to the grid and let it figure our the Laplacian like this:"
   ]
  },
  {
   "cell_type": "code",
   "execution_count": null,
   "metadata": {
    "collapsed": false
   },
   "outputs": [],
   "source": [
    "grid_3d = Grid(shape=(5, 6, 7), extent=(1., 1., 1.))\n",
    "u = TimeFunction(name='u', grid=grid_3d, space_order=2)\n",
    "u.laplace"
   ]
  },
  {
   "cell_type": "markdown",
   "metadata": {},
   "source": [
    "Just for kicks (and to show off the power of SymPy), let's see what the 12th-order Laplacian of a three dimensional time-dependent function looks like."
   ]
  },
  {
   "cell_type": "code",
   "execution_count": null,
   "metadata": {
    "collapsed": false
   },
   "outputs": [],
   "source": [
    "grid_3d = Grid(shape=(5, 6, 7), extent=(1., 1., 1.))\n",
    "u = TimeFunction(name='u', grid=grid_3d, space_order=12)\n",
    "u.laplace"
   ]
  },
  {
   "cell_type": "markdown",
   "metadata": {},
   "source": [
    "## Exercise 2: Making a wave\n",
    "\n",
    "In the final exercise of the introduction we will implement a simple wave equation operator to the ones used in seismic imaging. For this we will implement the isotropic wave equation without boundary conditions. The equation defines the propagation of a wave in an isotropic medium and is defined as\n",
    "\n",
    "$$m \\frac{\\partial^2 u}{\\partial t^2} = \\nabla^2 u$$\n",
    "\n",
    "where $m$ is the square slowness of the wave, defined in terms of the wave speed $c$ as $m = 1 / c^2$. For the purpose of this exercise, we will ignore any source terms and instead use a \"warmed-up\" wavefield from file.\n",
    "\n",
    "In the cell below we define the time parameters of our simulation, as well as the spatial dimensions and the shape of our computational grid with a `Grid` object. Using this grid object we can define two functions:\n",
    "* The wavefield $u(t, x, y)$ which we initialise from the file `wavefield.npy`\n",
    "* The square slowness $m(x, y)$ which, for now we will keep constant, for $c = 1.5km/s$."
   ]
  },
  {
   "cell_type": "code",
   "execution_count": null,
   "metadata": {
    "collapsed": false
   },
   "outputs": [],
   "source": [
    "import numpy as np\n",
    "from examples.seismic import plot_image\n",
    "\n",
    "t0, tn, dt = 214., 400, 4.2  # Start, end and timestep size\n",
    "nt = int(1 + (tn - t0) / dt)  # Number of timesteps\n",
    "\n",
    "# A 120x120 grid that defines our square domain\n",
    "grid = Grid(shape=(120, 120), extent=(1800., 1800.))\n",
    "\n",
    "# Load and plot the initial \"warmed-up\" wavefield\n",
    "u = TimeFunction(name='u', grid=grid, space_order=2, time_order=2)\n",
    "u.data[:] = np.load('wavefield.npy')\n",
    "plot_image(u.data[0])\n",
    "\n",
    "# Square slowness for a constant wave speed of 1.5m/s\n",
    "m = Function(name='m', grid=grid)\n",
    "m.data[:] = 1. / 1.5**2"
   ]
  },
  {
   "cell_type": "markdown",
   "metadata": {},
   "source": [
    "To remind ourselves, the governing equation we want to implement is\n",
    "\n",
    "$$m \\frac{\\partial^2 u}{\\partial t^2} = \\nabla^2 u$$\n",
    "\n",
    "Please have a go and try to implement the operator below. You will need to follow the same strategy to discretize the equation and create a symbolic stencil expression that updates `u(t + dt, x, y)$. Once we apply our `Operator` for `nt` timesteps we should see that the wave has expanded homogeneously."
   ]
  },
  {
   "cell_type": "code",
   "execution_count": null,
   "metadata": {
    "collapsed": false
   },
   "outputs": [],
   "source": [
    "# Reset the wavefield, so that we can run the cell  multiple times\n",
    "u.data[:] = np.load('wavefield.npy')\n",
    "\n",
    "# Please implement your wave equation operator here "
   ]
  },
  {
   "cell_type": "code",
   "execution_count": null,
   "metadata": {
    "collapsed": false
   },
   "outputs": [],
   "source": [
    "plot_image(u.data[0])"
   ]
  },
  {
   "cell_type": "markdown",
   "metadata": {},
   "source": [
    "<button data-toggle=\"collapse\" data-target=\"#sol2\" class='btn btn-primary'>Solution</button>\n",
    "<div id=\"sol2\" class=\"collapse\">\n",
    "```python\n",
    "eqn = Eq(m * u.dt2 - u.laplace)\n",
    "stencil = solve(eqn, u.forward)[0]\n",
    "update = Eq(u.forward, stencil)\n",
    "op = Operator(update)\n",
    "\n",
    "op(t=nt, dt=dt)\n",
    "\n",
    "```"
   ]
  },
  {
   "cell_type": "markdown",
   "metadata": {},
   "source": [
    "Now, let's see what happens if we change the square slowness field `m` by increasing the wave speed to $2.5$ in the bottom half of the domain."
   ]
  },
  {
   "cell_type": "code",
   "execution_count": null,
   "metadata": {
    "collapsed": false
   },
   "outputs": [],
   "source": [
    "m.data[:, 60:] = 1. / 2.5**2  # Set a new wave speed\n",
    "plot_image(m.data)\n",
    "\n",
    "u.data[:] = np.load('wavefield.npy')  # Reset our wave field u\n",
    "plot_image(u.data[0])\n",
    "\n",
    "op(t=60, dt=dt)\n",
    "plot_image(u.data[0])"
   ]
  },
  {
   "cell_type": "markdown",
   "metadata": {},
   "source": [
    "<sup>This notebook is part of the tutorial \"Optimised Symbolic Finite Difference Computation with Devito\" presented at the Intel® HPC Developer Conference 2017.</sup>"
   ]
  }
 ],
 "metadata": {
  "kernelspec": {
   "display_name": "Python 3",
   "language": "python",
   "name": "python3"
  },
  "language_info": {
   "codemirror_mode": {
    "name": "ipython",
    "version": 3
   },
   "file_extension": ".py",
   "mimetype": "text/x-python",
   "name": "python",
   "nbconvert_exporter": "python",
   "pygments_lexer": "ipython3",
   "version": "3.6.2"
  },
  "widgets": {
   "state": {},
   "version": "1.1.2"
  }
 },
 "nbformat": 4,
 "nbformat_minor": 2
}
