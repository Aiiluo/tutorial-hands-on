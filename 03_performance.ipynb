{
 "cells": [
  {
   "cell_type": "markdown",
   "metadata": {},
   "source": [
    "# Performance analysis and tuning"
   ]
  },
  {
   "cell_type": "markdown",
   "metadata": {},
   "source": [
    "In this tutorial, we will:\n",
    "\n",
    "* learn to optimize the performance of an `Operator`,\n",
    "* investigate the effects of optimization in two real-life seismic inversion `Operator`s,\n",
    "* analyze and interpret the performance report displayed after a run.\n",
    "\n",
    "We will rely on preset models and `Operator`s from the following problems:\n",
    "\n",
    "* Acoustic isotropic wave equation\n",
    "* TTI (TODO: expand)\n",
    "\n",
    "To access them, we will use a convenience module available in Devito, namely ``benchmark.py``."
   ]
  },
  {
   "cell_type": "code",
   "execution_count": null,
   "metadata": {
    "collapsed": true
   },
   "outputs": [],
   "source": [
    "import examples.seismic.benchmark\n",
    "benchmark = examples.seismic.benchmark.__file__\n",
    "\n",
    "# For a full list of options\n",
    "# %run $benchmark.__file__ --help"
   ]
  },
  {
   "cell_type": "markdown",
   "metadata": {},
   "source": [
    "Now we want Devito to run an `Operator` as quickly as it can.\n",
    "\n",
    "In essence, there are four knobs we can play with to improve the execution time of an `Operator` (or, simply, to see how the performace varies when adding or removing a specific transformation):\n",
    "\n",
    "* parallelism,\n",
    "* the Devito Symbolic Engine (DSE) optimization level,\n",
    "* the Devito Loop Engine (DLE) optimization level,\n",
    "* loop blocking auto-tuning.\n",
    "\n",
    "## Shared-memory parallelism\n",
    "\n",
    "We start with the most obvious -- parallelism. Devito implements shared-memory parallelism via OpenMP. To enable it, the following environment variable needs to be set:"
   ]
  },
  {
   "cell_type": "code",
   "execution_count": null,
   "metadata": {
    "collapsed": true
   },
   "outputs": [],
   "source": [
    "%env DEVITO_OPENMP=1"
   ]
  },
  {
   "cell_type": "markdown",
   "metadata": {},
   "source": [
    "This does suffice to use multiple threads when running an `Operator`. We should, however, also restrain execution to a single socket and enforce thread pinning. For this, we first have to understand something more about the underlying CPU architecture. Let's find out how many cores one of our CPU socket has with a standard utility such as:"
   ]
  },
  {
   "cell_type": "code",
   "execution_count": null,
   "metadata": {
    "collapsed": true
   },
   "outputs": [],
   "source": [
    "! lscpu"
   ]
  },
  {
   "cell_type": "markdown",
   "metadata": {},
   "source": [
    "Let's assume that our CPU architecture consists of multiple sockets, each socket having 8 physical cores. This may be inferred from lines such as ``NUMA node0 CPU(s): 0-7,16-23``. If we choose to use the 8 physical cores on socket 0 (``node0``), we should set the OpenMP environment variable to:"
   ]
  },
  {
   "cell_type": "code",
   "execution_count": null,
   "metadata": {
    "collapsed": true
   },
   "outputs": [],
   "source": [
    "%env OMP_NUM_THREADS=8"
   ]
  },
  {
   "cell_type": "markdown",
   "metadata": {},
   "source": [
    "Thus, 8 threads will be spawned. Now we have to bind them to the physical cores of socket 0. One may use a program such as ``numactl`` or take a look at other OpenMP environment variables. More simply, if the Intel compiler is at our disposal, to achieve this we can:\n",
    "\n",
    "* tell Devito to use the Intel compiler through ``DEVITO_ARCH``, and\n",
    "* set the Intel-specific ``KMP_HW_SUBSETS`` environment variable\n",
    "\n",
    "as follows:"
   ]
  },
  {
   "cell_type": "code",
   "execution_count": null,
   "metadata": {
    "collapsed": true
   },
   "outputs": [],
   "source": [
    "%env DEVITO_ARCH=intel\n",
    "%env KMP_HW_SUBSETS=8c,1t"
   ]
  },
  {
   "cell_type": "markdown",
   "metadata": {},
   "source": [
    "Now, Devito will run each `Operator` with 8 threads, each thread bound to a physical core of socket 0. Did it work? Let's try running the acoustic forward operator.\n",
    "\n",
    "TODO: Fix a realistic space order as used in seismic inversion, such as 8"
   ]
  },
  {
   "cell_type": "code",
   "execution_count": null,
   "metadata": {
    "collapsed": true
   },
   "outputs": [],
   "source": [
    "%run $benchmark run -P acoustic "
   ]
  },
  {
   "cell_type": "markdown",
   "metadata": {},
   "source": [
    "TODO: need openmp enabled as a special dle mode, switched on automatically if DEVITO_OPENMP=1\n",
    "\n",
    "TODO: show diff in runtime, perhaps point to generated code"
   ]
  },
  {
   "cell_type": "markdown",
   "metadata": {},
   "source": [
    "## DSE - Devito Symbolic Engine\n",
    "\n",
    "Let's now jump to the DSE -- probably one of the distinguishing features of Devito w.r.t. other stencil frameworks!\n",
    "\n",
    "This is what the documentation says about the DSE:\n",
    "```\n",
    "[The DSE performs] Flop-count optimizations - They aim to reduce the operation count of an Operator. These include, for example, code motion, factorization, and detection of cross-stencil redundancies. The flop-count optimizations are performed by routines built on top of SymPy.\n",
    "```"
   ]
  },
  {
   "cell_type": "markdown",
   "metadata": {},
   "source": [
    "TODO: ask them to run acoustic with DSE advanced (skip basic?). What changes? Does the runtime significantly differ? Why?"
   ]
  },
  {
   "cell_type": "markdown",
   "metadata": {},
   "source": [
    "## DLE - Devito Loop Engine\n",
    "\n",
    "TODO: acoustic switching DLE to advanced. How does the output changes? Is there any difference in performance? Why?\n",
    "how about 3D blocking ?"
   ]
  },
  {
   "cell_type": "markdown",
   "metadata": {},
   "source": [
    "## Loop blocking auto-tuning\n",
    "\n",
    "Switch it on. Basic vs aggressive mode. Perhaps something in between. How does the acoustic performance varies? Why?"
   ]
  },
  {
   "cell_type": "markdown",
   "metadata": {},
   "source": [
    "## Automated generation of roofline plots\n",
    "\n",
    "Show this cute feature"
   ]
  },
  {
   "cell_type": "markdown",
   "metadata": {},
   "source": [
    "## TTI\n",
    "\n",
    "Quickly show unoptimized (but parallel) vs +loop_blocking vs +loop_blocking+DSEaggressive"
   ]
  },
  {
   "cell_type": "markdown",
   "metadata": {},
   "source": [
    "## A sneak peek at the YASK backend\n",
    "\n",
    "YASK -- Yet Another Stencil Kernel -- is\n",
    "```\n",
    "a framework to facilitate exploration of the HPC stencil-performance design space.\n",
    "```\n",
    "It operates at a level of abstraction much lower than Devito's (e.g., no symbolic language is available). We've been working on integrating YASK with Devito so that Devito users can exploit the YASK technology in a seamless fashion, w/o having to change their code. After months of work, we're finally in a position in which we can run some non-trivial `Operator`s, while reusing all of the Devito infrastructure presented so far (including the symbolic optimizations provided by the DSE). In this section, we show how simple is it from a user point-of-view to exploit YASK in Devito -- no more difficult than setting an environment variable ! Then, we also look at performance of the acoustic `Operator` w/ and w/o YASK."
   ]
  },
  {
   "cell_type": "markdown",
   "metadata": {},
   "source": [
    "<sup>This notebook is part of the tutorial \"Optimised Symbolic Finite Difference Computation with Devito\" presented at the Intel® HPC Developer Conference 2017.</sup>"
   ]
  }
 ],
 "metadata": {
  "kernelspec": {
   "display_name": "Python 3",
   "language": "python",
   "name": "python3"
  },
  "language_info": {
   "codemirror_mode": {
    "name": "ipython",
    "version": 3
   },
   "file_extension": ".py",
   "mimetype": "text/x-python",
   "name": "python",
   "nbconvert_exporter": "python",
   "pygments_lexer": "ipython3",
   "version": "3.6.2"
  },
  "widgets": {
   "state": {},
   "version": "1.1.2"
  }
 },
 "nbformat": 4,
 "nbformat_minor": 2
}
