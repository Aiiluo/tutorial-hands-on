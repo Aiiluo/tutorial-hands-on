{
 "cells": [
  {
   "cell_type": "markdown",
   "metadata": {},
   "source": [
    "# Optimised symbolic finite difference computation with Devito"
   ]
  },
  {
   "cell_type": "markdown",
   "metadata": {
    "collapsed": true
   },
   "source": [
    "Welcome to the interactive hands-on tutorial for [Devito](http://www.opesci.org/devito-public). Devito is a domain-specific language (DSL) and code generation framework for the design of highly optimised finite difference kernels, and was primarily designed for use in seismic inversion methods. Devito utilises SymPy to allow the definition of matrix-free finite difference operators from high-level symbolic equations and generates optimised and automatically tuned code specific to a given target architecture.\n",
    "\n",
    "This hands-on tutorial is intended to give you an initial flavour of the Devito framework and the power of symbolic computation. We will demonstrate how quickly explicit finite difference operators can be created from only a few lines of Python code, and how we can use them to implement complex imaging algorithms in very little time (literally!). For a more in-depth overview (and as cheat-sheet if you can speed read), you can find another set of [tutorial notebooks](http://www.opesci.org/devito/tutorials.html) on our webpage that go through the covered topics in more detail."
   ]
  },
  {
   "cell_type": "markdown",
   "metadata": {},
   "source": [
    "## Installation and setup\n",
    "\n",
    "On entering the tutorial you should have been given an IP adress for your own cloud instance that contains the full setup for this tutorial. To get started, you should log into this node and execute the following commands to start the Jupyter Notebook server:\n",
    "\n",
    "```\n",
    "cd devcon-tutorial\n",
    "jupyter notebook --no-browser --port=8889\n",
    "```\n",
    "\n",
    "Once the notebook server is running you need to do the following to enable SSH tunnelling on your local machine:\n",
    "\n",
    "```\n",
    "ssh -N -f -L localhost:8888:localhost:8889 username@your_remote_host_ip\n",
    "```\n",
    "\n",
    "Once that is setup you should simply open the following in your browser:\n",
    "\n",
    "```\n",
    "localhost:8888\n",
    "```\n",
    "\n",
    "Now you should see a set of Jupyter notebooks, inlcuding this one called ```00_index.ipynb```. The procedure is explained in more detail [here](http://amber-md.github.io/pytraj/latest/tutorials/remote_jupyter_notebook)."
   ]
  },
  {
   "cell_type": "markdown",
   "metadata": {},
   "source": [
    "Once the above installation step has finished, we should run a quick sanity check that we have everything that we need. The following cell should simply complete without any errors."
   ]
  },
  {
   "cell_type": "code",
   "execution_count": null,
   "metadata": {
    "collapsed": true
   },
   "outputs": [],
   "source": [
    "from devito import *\n",
    "from examples.seismic import model, source"
   ]
  },
  {
   "cell_type": "markdown",
   "metadata": {},
   "source": [
    "For the final part of this tutorial we will have a quick look at the stencil compiler YASK, which is currently being integrated with Devito. To verify YASK rns smoothly you can run:"
   ]
  },
  {
   "cell_type": "code",
   "execution_count": null,
   "metadata": {
    "collapsed": true
   },
   "outputs": [],
   "source": [
    "import yask"
   ]
  },
  {
   "cell_type": "markdown",
   "metadata": {
    "collapsed": true
   },
   "source": [
    "## Instructors and helpers\n",
    "\n",
    "This tutorial will be given by the Devito development team:\n",
    "\n",
    "* **Michael Lange** (Introdcution)\n",
    "* **Gerard Gorman** (Seismic imaging)\n",
    "* **Fabio Luporini** (Performance)\n",
    "* **Chuck Yount** (YASK)\n",
    "* Navjot Kukreja"
   ]
  },
  {
   "cell_type": "markdown",
   "metadata": {},
   "source": [
    "## Learning objectives\n",
    "\n",
    "* How to use [SymPy](http://www.sympy.org) and [Devito](http://www.opesci.org/devito-public) to create simple finite difference expressions from governing equations\n",
    "* Creating Devito operators to perform highly optimized stencil computations from the symbolic kernel definitions\n",
    "* Create basic seismic modelling operator to model wave propagation for a seismic survey\n",
    "* Implement a functional FWI algorithm usign high-level components from [Devito](http://www.opesci.org/devito-public) and `scipy.optimize`\n",
    "* Gain an overview of the various performance optimization techniques used in Devito operators\n",
    "* Get a \"sneak-preview\" of the new backend that allows individual parts to be offload to the [YASK](https://01.org/yask) stencil DSL"
   ]
  },
  {
   "cell_type": "markdown",
   "metadata": {},
   "source": [
    "## Outline\n",
    "\n",
    "* [Session 1: Introduction to Devito](01_introduction.ipynb)\n",
    "  * Symbolic behaviour of Function objects **[5min]**\n",
    "  * Time-dependent functions and data **[5min]**\n",
    "  * A simple Operator: Linear convection **[5min]**\n",
    "  * Exercise 1: A coupled operator for non-linear convection **[5min]**\n",
    "  * Second derivatives and high-order stencils **[5min]**\n",
    "  * Exercise 2: Making a wave! **[5min]**\n",
    "\n",
    "* [Session 2: Seismic Imaging](02_seismic_imaging.ipynb)\n",
    "    * Add receivers to record observations and build a complete forward operator **[5min]**\n",
    "    * Exercise 3: Gradient operator **[5min]**\n",
    "    * Intro to optimisation **[5min]**\n",
    "        * Compare with machine learning, weather forecasting etc. minimise difference between observed and simulated.\n",
    "        * Gradient descent. In a PDE constrained optimisation problem, the gradient is obtained by the adjoint-state method.\n",
    "        * scipy.minimize(f, g) (don’t run)\n",
    "\n",
    "    * Intro to devito+dask **[10min]**\n",
    "\n",
    "    * Exercise 4: Inversion with devito + dask + scipy **[5min]**\n",
    " \n",
    "\n",
    "* Session 3: [Performance Optimization and Analysis](03_performance.ipynb)\n",
    "    * Introduction to performance optimization in Devito **[2min]**\n",
    "    * Setup for shared-memory parallelism **[5min]**\n",
    "    * Devito Symbolic Engine (DSE) **[5min]**\n",
    "    * Devito Loop Engine (DLE) **[5min]**\n",
    "    * Exercise 4: performance analysis of a TTI forward operator **[8min]**\n",
    "    * A sneak peek at the YASK backend **[5min]**"
   ]
  },
  {
   "cell_type": "markdown",
   "metadata": {},
   "source": [
    "### Bonus Material and further reading\n",
    "\n",
    "\n",
    "* [Opesci project webpage](http://www.opesci.org/)\n",
    "  * [Devito documentation](http://www.opesci.org/devito/)\n",
    "* More detailed [introductory tutorials](http://www.opesci.org/devito/tutorials.html), covering the following topics:\n",
    "  * Introduction to Devito with CFD\n",
    "  * Introdcution to seismic imaging\n",
    "\n",
    "### References\n",
    "\n",
    "* M. Lange, N. Kukreja, F. Luporini, M. Louboutin, C. Yount, J. Hückelheim and G. Gorman. Optimised finite difference computation from symbolic equations. Accepted for publication in Proceedings of the 15th Python in Science Conference, 2017. [[doi:10.25080/shinma-7f4c6e7-00d](http://conference.scipy.org/proceedings/scipy2017/michael_lange.html)] [[arxiv](http://arxiv.org/abs/1707.03776)]\n",
    "\n",
    "* M. Louboutin, M. Lange, N. Kukreja, F. Herrmann, and G. Gorman. _Performance\n",
    "prediction of finite-difference solvers for different computer architectures_. Accepted\n",
    "for publication in Computers & Geosciences, 2016, [doi:10.1016/j.cageo.2017.04.014](http://www.sciencedirect.com/science/article/pii/S0098300416304034)\n"
   ]
  },
  {
   "cell_type": "markdown",
   "metadata": {},
   "source": [
    "<sup>This notebook is part of the tutorial \"Optimised Symbolic Finite Difference Computation with Devito\" presented at the Intel® HPC Developer Conference 2017.</sup>"
   ]
  }
 ],
 "metadata": {
  "kernelspec": {
   "display_name": "Python 3",
   "language": "python",
   "name": "python3"
  },
  "language_info": {
   "codemirror_mode": {
    "name": "ipython",
    "version": 3
   },
   "file_extension": ".py",
   "mimetype": "text/x-python",
   "name": "python",
   "nbconvert_exporter": "python",
   "pygments_lexer": "ipython3",
   "version": "3.6.2"
  },
  "widgets": {
   "state": {},
   "version": "1.1.2"
  }
 },
 "nbformat": 4,
 "nbformat_minor": 2
}
