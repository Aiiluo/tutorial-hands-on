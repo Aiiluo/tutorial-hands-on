{
 "cells": [
  {
   "cell_type": "markdown",
   "metadata": {},
   "source": [
    "# Optimised symbolic finite difference computation with Devito"
   ]
  },
  {
   "cell_type": "markdown",
   "metadata": {
    "collapsed": true
   },
   "source": [
    "This is a tutorial about Devito. Devito is cool!"
   ]
  },
  {
   "cell_type": "markdown",
   "metadata": {
    "collapsed": true
   },
   "source": [
    "### Instructors and helpers\n",
    "\n",
    "* **Michael Lange** (Introdcution)\n",
    "* **Navjot Kukreja** (Seismic imaging)\n",
    "* **Fabio Luporini** (Performance)\n",
    "* Gerard Gorman\n",
    "* Matthias Louboutin\n",
    "* Chuck Yount (YASK)\n",
    "* Jan Hueckelheim"
   ]
  },
  {
   "cell_type": "markdown",
   "metadata": {},
   "source": [
    "### Learning objectives"
   ]
  },
  {
   "cell_type": "markdown",
   "metadata": {},
   "source": [
    "### Outline\n",
    "\n",
    "* Session 1: [Introduction to Devito](introduction.ipynb)\n",
    "  * Symbolic behaviour of Function objects **[5min]**\n",
    "  * Time-dependent functions and data **[5min]**\n",
    "  * A simple Operator: Linear convection **[5min]**\n",
    "  * Exercise 1: A coupled operator for non-linear convection **[5min]**\n",
    "  * Second derivatives and high-order stencils **[5min]**\n",
    "  * Exercise 2: Making a wave! **[5min]**\n",
    "\n",
    "* Session 2: [Seismic Imaging](seismic_imaging.ipynb)\n",
    "    * Add receivers to record observations and build a complete forward operator **[5min]**\n",
    "    * Exercise 3: Gradient operator **[5min]**\n",
    "    * Intro to optimisation **[5min]**\n",
    "        * Compare with machine learning, weather forecasting etc. minimise difference between observed and simulated.\n",
    "        * Gradient descent. In a PDE constrained optimisation problem, the gradient is obtained by the adjoint-state method.\n",
    "        * scipy.minimize(f, g) (don’t run)\n",
    "\n",
    "    * Intro to devito+dask **[10min]**\n",
    "\n",
    "    * Exercise 4: Inversion with devito + dask + scipy **[5min]**\n",
    " \n",
    "\n",
    "* Session 3: [Performance Optimization and Analysis](performance.ipynb)\n",
    "    * Overview of performance optimizations for an Operator **[5min]**\n",
    "    * Setup for shared-memory parallelism **[5min]**\n",
    "    * Devito Symbolic Engine (DSE) and Devito Loop Engine (DLE) **[5min]**\n",
    "    * Exercise 4: Analisys of Operator Performance **[10min]**\n",
    "    * A sneak peek at the YASK backend **[5min]**"
   ]
  },
  {
   "cell_type": "markdown",
   "metadata": {},
   "source": [
    "### Bonus Material and further reading\n",
    "\n",
    "\n",
    "* [Opesci project webpage](http://www.opesci.org/)\n",
    "  * [Devito documentation](http://www.opesci.org/devito/)\n",
    "* More detailed [introductory tutorials](http://www.opesci.org/devito/tutorials.html)\n",
    "  * Introduction to Devito with CFD\n",
    "  * Introdcution to seismic imaging\n",
    "\n",
    "### References\n",
    "\n"
   ]
  },
  {
   "cell_type": "markdown",
   "metadata": {},
   "source": [
    "<sup>This notebook is part of the tutorial \"Optimised Symbolic Finite Difference Computation with Devito\" presented at the Intel® HPC Developer Conference 2017.</sup>"
   ]
  }
 ],
 "metadata": {
  "kernelspec": {
   "display_name": "Python 3",
   "language": "python",
   "name": "python3"
  },
  "language_info": {
   "codemirror_mode": {
    "name": "ipython",
    "version": 3
   },
   "file_extension": ".py",
   "mimetype": "text/x-python",
   "name": "python",
   "nbconvert_exporter": "python",
   "pygments_lexer": "ipython3",
   "version": "3.6.3"
  },
  "widgets": {
   "state": {},
   "version": "1.1.2"
  }
 },
 "nbformat": 4,
 "nbformat_minor": 2
}
